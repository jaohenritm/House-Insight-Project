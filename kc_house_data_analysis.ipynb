{
 "cells": [
  {
   "cell_type": "markdown",
   "id": "2a6dcb7f",
   "metadata": {},
   "source": [
    " ### 1) Libraries"
   ]
  },
  {
   "cell_type": "code",
   "execution_count": 4,
   "id": "7a608ad8",
   "metadata": {},
   "outputs": [],
   "source": [
    "import pandas as pd\n",
    "import seaborn as sns\n",
    "import plotly.express as px\n",
    "import numpy as np\n",
    "\n",
    "from matplotlib import pyplot as plt"
   ]
  },
  {
   "cell_type": "markdown",
   "id": "417f27ff",
   "metadata": {},
   "source": [
    "### 2) Functions"
   ]
  },
  {
   "cell_type": "code",
   "execution_count": 5,
   "id": "ff44f3a6",
   "metadata": {},
   "outputs": [],
   "source": [
    "def get_data(path):\n",
    "    data = pd.read_csv(path)\n",
    "    data['date'] = pd.to_datetime(data['date'])\n",
    "    \n",
    "    return data\n",
    "    \n",
    "def transformation_data(data):\n",
    "    # converting sqft to m2\n",
    "    data['m2_living'] = data['sqft_living'] * 0.092903\n",
    "    data['m2_lot'] = data['sqft_lot'] * 0.092903\n",
    "    data['m2_above'] = data['sqft_above'] * 0.092903\n",
    "    data['m2_basement'] = data['sqft_basement'] * 0.092903\n",
    "    \n",
    "    # removing columns with sqft\n",
    "    data = data.drop(['sqft_living','sqft_lot','sqft_above','sqft_basement','sqft_living15','sqft_lot15'], axis=1)\n",
    "    \n",
    "    # new features\n",
    "    data['old'] = data['yr_built'].apply(lambda x: 'yes' if x <= 1955 else 'no')\n",
    "\n",
    "    data['renovated'] = data['yr_renovated'].apply(lambda x: 'yes' if x > 2009 else 'no')\n",
    "    \n",
    "    return data\n",
    "\n",
    "def treatment_data(data):\n",
    "    \n",
    "    # removing repeated ids and keeping the last one\n",
    "    data = data.drop_duplicates(subset = ['id'], keep = 'last')\n",
    "    \n",
    "    # excluding the row with 33 bedrooms\n",
    "    data = data.drop(index=15870)\n",
    "    \n",
    "    # removing outliers by using interquartile\n",
    "    cols = ['price','m2_lot']\n",
    "    Q1 = data[cols].quantile(0.25)\n",
    "    Q3 = data[cols].quantile(0.75)\n",
    "    IQR = Q3 - Q1\n",
    "\n",
    "    data = data[~((data[cols] < (Q1 - 1.5 * IQR)) |(data[cols] > (Q3 + 1.5 * IQR))).any(axis=1)]\n",
    "      \n",
    "    return data"
   ]
  },
  {
   "cell_type": "markdown",
   "id": "f36621fe",
   "metadata": {},
   "source": [
    "### 3) Data Extraction"
   ]
  },
  {
   "cell_type": "code",
   "execution_count": 6,
   "id": "cd56a329",
   "metadata": {},
   "outputs": [],
   "source": [
    "# Data Path and \n",
    "path = 'kc_house_data.csv'\n",
    "data = get_data(path)\n",
    "\n",
    "# Supressing Scientific Notation\n",
    "pd.set_option('display.float_format', lambda x: '%.2f' % x)"
   ]
  },
  {
   "cell_type": "markdown",
   "id": "86c274bd",
   "metadata": {},
   "source": [
    "### 3.1) Exploratory Data Analysis (EDA)"
   ]
  },
  {
   "cell_type": "code",
   "execution_count": 7,
   "id": "7e1394dc",
   "metadata": {},
   "outputs": [
    {
     "data": {
      "text/html": [
       "<div>\n",
       "<style scoped>\n",
       "    .dataframe tbody tr th:only-of-type {\n",
       "        vertical-align: middle;\n",
       "    }\n",
       "\n",
       "    .dataframe tbody tr th {\n",
       "        vertical-align: top;\n",
       "    }\n",
       "\n",
       "    .dataframe thead th {\n",
       "        text-align: right;\n",
       "    }\n",
       "</style>\n",
       "<table border=\"1\" class=\"dataframe\">\n",
       "  <thead>\n",
       "    <tr style=\"text-align: right;\">\n",
       "      <th></th>\n",
       "      <th>id</th>\n",
       "      <th>price</th>\n",
       "      <th>bedrooms</th>\n",
       "      <th>bathrooms</th>\n",
       "      <th>sqft_living</th>\n",
       "      <th>sqft_lot</th>\n",
       "      <th>floors</th>\n",
       "      <th>waterfront</th>\n",
       "      <th>view</th>\n",
       "      <th>condition</th>\n",
       "      <th>grade</th>\n",
       "      <th>sqft_above</th>\n",
       "      <th>sqft_basement</th>\n",
       "      <th>yr_built</th>\n",
       "      <th>yr_renovated</th>\n",
       "      <th>zipcode</th>\n",
       "      <th>lat</th>\n",
       "      <th>long</th>\n",
       "      <th>sqft_living15</th>\n",
       "      <th>sqft_lot15</th>\n",
       "    </tr>\n",
       "  </thead>\n",
       "  <tbody>\n",
       "    <tr>\n",
       "      <th>count</th>\n",
       "      <td>21613.00</td>\n",
       "      <td>21613.00</td>\n",
       "      <td>21613.00</td>\n",
       "      <td>21613.00</td>\n",
       "      <td>21613.00</td>\n",
       "      <td>21613.00</td>\n",
       "      <td>21613.00</td>\n",
       "      <td>21613.00</td>\n",
       "      <td>21613.00</td>\n",
       "      <td>21613.00</td>\n",
       "      <td>21613.00</td>\n",
       "      <td>21613.00</td>\n",
       "      <td>21613.00</td>\n",
       "      <td>21613.00</td>\n",
       "      <td>21613.00</td>\n",
       "      <td>21613.00</td>\n",
       "      <td>21613.00</td>\n",
       "      <td>21613.00</td>\n",
       "      <td>21613.00</td>\n",
       "      <td>21613.00</td>\n",
       "    </tr>\n",
       "    <tr>\n",
       "      <th>mean</th>\n",
       "      <td>4580301520.86</td>\n",
       "      <td>540088.14</td>\n",
       "      <td>3.37</td>\n",
       "      <td>2.11</td>\n",
       "      <td>2079.90</td>\n",
       "      <td>15106.97</td>\n",
       "      <td>1.49</td>\n",
       "      <td>0.01</td>\n",
       "      <td>0.23</td>\n",
       "      <td>3.41</td>\n",
       "      <td>7.66</td>\n",
       "      <td>1788.39</td>\n",
       "      <td>291.51</td>\n",
       "      <td>1971.01</td>\n",
       "      <td>84.40</td>\n",
       "      <td>98077.94</td>\n",
       "      <td>47.56</td>\n",
       "      <td>-122.21</td>\n",
       "      <td>1986.55</td>\n",
       "      <td>12768.46</td>\n",
       "    </tr>\n",
       "    <tr>\n",
       "      <th>std</th>\n",
       "      <td>2876565571.31</td>\n",
       "      <td>367127.20</td>\n",
       "      <td>0.93</td>\n",
       "      <td>0.77</td>\n",
       "      <td>918.44</td>\n",
       "      <td>41420.51</td>\n",
       "      <td>0.54</td>\n",
       "      <td>0.09</td>\n",
       "      <td>0.77</td>\n",
       "      <td>0.65</td>\n",
       "      <td>1.18</td>\n",
       "      <td>828.09</td>\n",
       "      <td>442.58</td>\n",
       "      <td>29.37</td>\n",
       "      <td>401.68</td>\n",
       "      <td>53.51</td>\n",
       "      <td>0.14</td>\n",
       "      <td>0.14</td>\n",
       "      <td>685.39</td>\n",
       "      <td>27304.18</td>\n",
       "    </tr>\n",
       "    <tr>\n",
       "      <th>min</th>\n",
       "      <td>1000102.00</td>\n",
       "      <td>75000.00</td>\n",
       "      <td>0.00</td>\n",
       "      <td>0.00</td>\n",
       "      <td>290.00</td>\n",
       "      <td>520.00</td>\n",
       "      <td>1.00</td>\n",
       "      <td>0.00</td>\n",
       "      <td>0.00</td>\n",
       "      <td>1.00</td>\n",
       "      <td>1.00</td>\n",
       "      <td>290.00</td>\n",
       "      <td>0.00</td>\n",
       "      <td>1900.00</td>\n",
       "      <td>0.00</td>\n",
       "      <td>98001.00</td>\n",
       "      <td>47.16</td>\n",
       "      <td>-122.52</td>\n",
       "      <td>399.00</td>\n",
       "      <td>651.00</td>\n",
       "    </tr>\n",
       "    <tr>\n",
       "      <th>25%</th>\n",
       "      <td>2123049194.00</td>\n",
       "      <td>321950.00</td>\n",
       "      <td>3.00</td>\n",
       "      <td>1.75</td>\n",
       "      <td>1427.00</td>\n",
       "      <td>5040.00</td>\n",
       "      <td>1.00</td>\n",
       "      <td>0.00</td>\n",
       "      <td>0.00</td>\n",
       "      <td>3.00</td>\n",
       "      <td>7.00</td>\n",
       "      <td>1190.00</td>\n",
       "      <td>0.00</td>\n",
       "      <td>1951.00</td>\n",
       "      <td>0.00</td>\n",
       "      <td>98033.00</td>\n",
       "      <td>47.47</td>\n",
       "      <td>-122.33</td>\n",
       "      <td>1490.00</td>\n",
       "      <td>5100.00</td>\n",
       "    </tr>\n",
       "    <tr>\n",
       "      <th>50%</th>\n",
       "      <td>3904930410.00</td>\n",
       "      <td>450000.00</td>\n",
       "      <td>3.00</td>\n",
       "      <td>2.25</td>\n",
       "      <td>1910.00</td>\n",
       "      <td>7618.00</td>\n",
       "      <td>1.50</td>\n",
       "      <td>0.00</td>\n",
       "      <td>0.00</td>\n",
       "      <td>3.00</td>\n",
       "      <td>7.00</td>\n",
       "      <td>1560.00</td>\n",
       "      <td>0.00</td>\n",
       "      <td>1975.00</td>\n",
       "      <td>0.00</td>\n",
       "      <td>98065.00</td>\n",
       "      <td>47.57</td>\n",
       "      <td>-122.23</td>\n",
       "      <td>1840.00</td>\n",
       "      <td>7620.00</td>\n",
       "    </tr>\n",
       "    <tr>\n",
       "      <th>75%</th>\n",
       "      <td>7308900445.00</td>\n",
       "      <td>645000.00</td>\n",
       "      <td>4.00</td>\n",
       "      <td>2.50</td>\n",
       "      <td>2550.00</td>\n",
       "      <td>10688.00</td>\n",
       "      <td>2.00</td>\n",
       "      <td>0.00</td>\n",
       "      <td>0.00</td>\n",
       "      <td>4.00</td>\n",
       "      <td>8.00</td>\n",
       "      <td>2210.00</td>\n",
       "      <td>560.00</td>\n",
       "      <td>1997.00</td>\n",
       "      <td>0.00</td>\n",
       "      <td>98118.00</td>\n",
       "      <td>47.68</td>\n",
       "      <td>-122.12</td>\n",
       "      <td>2360.00</td>\n",
       "      <td>10083.00</td>\n",
       "    </tr>\n",
       "    <tr>\n",
       "      <th>max</th>\n",
       "      <td>9900000190.00</td>\n",
       "      <td>7700000.00</td>\n",
       "      <td>33.00</td>\n",
       "      <td>8.00</td>\n",
       "      <td>13540.00</td>\n",
       "      <td>1651359.00</td>\n",
       "      <td>3.50</td>\n",
       "      <td>1.00</td>\n",
       "      <td>4.00</td>\n",
       "      <td>5.00</td>\n",
       "      <td>13.00</td>\n",
       "      <td>9410.00</td>\n",
       "      <td>4820.00</td>\n",
       "      <td>2015.00</td>\n",
       "      <td>2015.00</td>\n",
       "      <td>98199.00</td>\n",
       "      <td>47.78</td>\n",
       "      <td>-121.31</td>\n",
       "      <td>6210.00</td>\n",
       "      <td>871200.00</td>\n",
       "    </tr>\n",
       "  </tbody>\n",
       "</table>\n",
       "</div>"
      ],
      "text/plain": [
       "                 id      price  bedrooms  bathrooms  sqft_living   sqft_lot  \\\n",
       "count      21613.00   21613.00  21613.00   21613.00     21613.00   21613.00   \n",
       "mean  4580301520.86  540088.14      3.37       2.11      2079.90   15106.97   \n",
       "std   2876565571.31  367127.20      0.93       0.77       918.44   41420.51   \n",
       "min      1000102.00   75000.00      0.00       0.00       290.00     520.00   \n",
       "25%   2123049194.00  321950.00      3.00       1.75      1427.00    5040.00   \n",
       "50%   3904930410.00  450000.00      3.00       2.25      1910.00    7618.00   \n",
       "75%   7308900445.00  645000.00      4.00       2.50      2550.00   10688.00   \n",
       "max   9900000190.00 7700000.00     33.00       8.00     13540.00 1651359.00   \n",
       "\n",
       "        floors  waterfront     view  condition    grade  sqft_above  \\\n",
       "count 21613.00    21613.00 21613.00   21613.00 21613.00    21613.00   \n",
       "mean      1.49        0.01     0.23       3.41     7.66     1788.39   \n",
       "std       0.54        0.09     0.77       0.65     1.18      828.09   \n",
       "min       1.00        0.00     0.00       1.00     1.00      290.00   \n",
       "25%       1.00        0.00     0.00       3.00     7.00     1190.00   \n",
       "50%       1.50        0.00     0.00       3.00     7.00     1560.00   \n",
       "75%       2.00        0.00     0.00       4.00     8.00     2210.00   \n",
       "max       3.50        1.00     4.00       5.00    13.00     9410.00   \n",
       "\n",
       "       sqft_basement  yr_built  yr_renovated  zipcode      lat     long  \\\n",
       "count       21613.00  21613.00      21613.00 21613.00 21613.00 21613.00   \n",
       "mean          291.51   1971.01         84.40 98077.94    47.56  -122.21   \n",
       "std           442.58     29.37        401.68    53.51     0.14     0.14   \n",
       "min             0.00   1900.00          0.00 98001.00    47.16  -122.52   \n",
       "25%             0.00   1951.00          0.00 98033.00    47.47  -122.33   \n",
       "50%             0.00   1975.00          0.00 98065.00    47.57  -122.23   \n",
       "75%           560.00   1997.00          0.00 98118.00    47.68  -122.12   \n",
       "max          4820.00   2015.00       2015.00 98199.00    47.78  -121.31   \n",
       "\n",
       "       sqft_living15  sqft_lot15  \n",
       "count       21613.00    21613.00  \n",
       "mean         1986.55    12768.46  \n",
       "std           685.39    27304.18  \n",
       "min           399.00      651.00  \n",
       "25%          1490.00     5100.00  \n",
       "50%          1840.00     7620.00  \n",
       "75%          2360.00    10083.00  \n",
       "max          6210.00   871200.00  "
      ]
     },
     "execution_count": 7,
     "metadata": {},
     "output_type": "execute_result"
    }
   ],
   "source": [
    "data.describe()"
   ]
  },
  {
   "cell_type": "code",
   "execution_count": 8,
   "id": "a4441a4f",
   "metadata": {},
   "outputs": [
    {
     "data": {
      "text/html": [
       "<div>\n",
       "<style scoped>\n",
       "    .dataframe tbody tr th:only-of-type {\n",
       "        vertical-align: middle;\n",
       "    }\n",
       "\n",
       "    .dataframe tbody tr th {\n",
       "        vertical-align: top;\n",
       "    }\n",
       "\n",
       "    .dataframe thead th {\n",
       "        text-align: right;\n",
       "    }\n",
       "</style>\n",
       "<table border=\"1\" class=\"dataframe\">\n",
       "  <thead>\n",
       "    <tr style=\"text-align: right;\">\n",
       "      <th></th>\n",
       "      <th>id</th>\n",
       "      <th>date</th>\n",
       "      <th>price</th>\n",
       "      <th>bedrooms</th>\n",
       "      <th>bathrooms</th>\n",
       "      <th>sqft_living</th>\n",
       "      <th>sqft_lot</th>\n",
       "      <th>floors</th>\n",
       "      <th>waterfront</th>\n",
       "      <th>view</th>\n",
       "      <th>...</th>\n",
       "      <th>grade</th>\n",
       "      <th>sqft_above</th>\n",
       "      <th>sqft_basement</th>\n",
       "      <th>yr_built</th>\n",
       "      <th>yr_renovated</th>\n",
       "      <th>zipcode</th>\n",
       "      <th>lat</th>\n",
       "      <th>long</th>\n",
       "      <th>sqft_living15</th>\n",
       "      <th>sqft_lot15</th>\n",
       "    </tr>\n",
       "  </thead>\n",
       "  <tbody>\n",
       "    <tr>\n",
       "      <th>15870</th>\n",
       "      <td>2402100895</td>\n",
       "      <td>2014-06-25</td>\n",
       "      <td>640000.00</td>\n",
       "      <td>33</td>\n",
       "      <td>1.75</td>\n",
       "      <td>1620</td>\n",
       "      <td>6000</td>\n",
       "      <td>1.00</td>\n",
       "      <td>0</td>\n",
       "      <td>0</td>\n",
       "      <td>...</td>\n",
       "      <td>7</td>\n",
       "      <td>1040</td>\n",
       "      <td>580</td>\n",
       "      <td>1947</td>\n",
       "      <td>0</td>\n",
       "      <td>98103</td>\n",
       "      <td>47.69</td>\n",
       "      <td>-122.33</td>\n",
       "      <td>1330</td>\n",
       "      <td>4700</td>\n",
       "    </tr>\n",
       "  </tbody>\n",
       "</table>\n",
       "<p>1 rows × 21 columns</p>\n",
       "</div>"
      ],
      "text/plain": [
       "               id       date     price  bedrooms  bathrooms  sqft_living  \\\n",
       "15870  2402100895 2014-06-25 640000.00        33       1.75         1620   \n",
       "\n",
       "       sqft_lot  floors  waterfront  view  ...  grade  sqft_above  \\\n",
       "15870      6000    1.00           0     0  ...      7        1040   \n",
       "\n",
       "       sqft_basement  yr_built  yr_renovated  zipcode   lat    long  \\\n",
       "15870            580      1947             0    98103 47.69 -122.33   \n",
       "\n",
       "       sqft_living15  sqft_lot15  \n",
       "15870           1330        4700  \n",
       "\n",
       "[1 rows x 21 columns]"
      ]
     },
     "execution_count": 8,
     "metadata": {},
     "output_type": "execute_result"
    }
   ],
   "source": [
    "# Verifying the row with 33 bedrooms\n",
    "data.loc[data['bedrooms'] == 33]"
   ]
  },
  {
   "cell_type": "code",
   "execution_count": 9,
   "id": "302a4424",
   "metadata": {},
   "outputs": [
    {
     "name": "stdout",
     "output_type": "stream",
     "text": [
      "0\n"
     ]
    }
   ],
   "source": [
    "# Verifying if there are duplicated rows\n",
    "duplicates = data[data.duplicated()]\n",
    "print(len(duplicates))"
   ]
  },
  {
   "cell_type": "code",
   "execution_count": 10,
   "id": "c072dcc6",
   "metadata": {},
   "outputs": [
    {
     "name": "stdout",
     "output_type": "stream",
     "text": [
      "177\n"
     ]
    }
   ],
   "source": [
    "# Verifying if there are rows with the same IDs\n",
    "duplicates = data[data.duplicated(subset=['id'])]\n",
    "print(len(duplicates))"
   ]
  },
  {
   "cell_type": "markdown",
   "id": "5f57af9f",
   "metadata": {},
   "source": [
    "### 4) Data Transformation and Treatment"
   ]
  },
  {
   "cell_type": "code",
   "execution_count": 11,
   "id": "caa5c255",
   "metadata": {},
   "outputs": [],
   "source": [
    "data = transformation_data(data)\n",
    "data = treatment_data(data)"
   ]
  },
  {
   "cell_type": "markdown",
   "id": "6460213e",
   "metadata": {},
   "source": [
    "### 5) Testing some Business Hypothesis"
   ]
  },
  {
   "cell_type": "markdown",
   "metadata": {},
   "source": [
    "- First Hypothesis: The best time to sell Real Estate is during the Summer Season.\n",
    "- Second Hypothesis : Houses with waterview are 50% more expensive.\n",
    "- Third Hypothesis: New houses have higher prices than old ones.\n",
    "- Fourth Hypothesis: The price of the houses gets higher from year to year.\n",
    "- Fifth Hypothesis: For every half level added to the house, it's price raises by 20%.\n",
    "- Sixth Hypothesis: Recent renovated houses got prices 20% higher.\n",
    "- Seventh Hypothesis: For every bathroom, the house price raises 10%\n",
    "- Eight Hypothesis: Every 1 level in condition, the price raises by 10%."
   ]
  },
  {
   "cell_type": "code",
   "execution_count": 79,
   "id": "2fba44cd",
   "metadata": {},
   "outputs": [
    {
     "data": {
      "image/png": "[encoded data removed]",
      "text/plain": [
       "<Figure size 720x432 with 1 Axes>"
      ]
     },
     "metadata": {
      "needs_background": "light"
     },
     "output_type": "display_data"
    }
   ],
   "source": [
    "# First Hypothesis: The best time to sell Real Estate is during the Summer Season.\n",
    "data['month'] = data['date'].dt.month\n",
    "data['season'] = data['month'].apply(lambda x: 'spring' if (x >= 3) & (x <= 5) else\n",
    "                                              'summer' if (x >= 6) & (x <= 8)  else\n",
    "                                              'fall' if (x >= 9) & (x <= 11)   else 'winter')\n",
    "\n",
    "h1 = data[['price','season']].groupby('season').mean().reset_index().sort_values('price', ascending=False)\n",
    "\n",
    "plt.figure(figsize=(10,6))\n",
    "plot = sns.barplot(x=h1['season'], y=h1['price'])\n",
    "\n"
   ]
  },
  {
   "cell_type": "markdown",
   "id": "4d2cea09",
   "metadata": {},
   "source": [
    "False: the season where you can get maximum profit on your sales is Spring."
   ]
  },
  {
   "cell_type": "code",
   "execution_count": null,
   "id": "750a2961",
   "metadata": {},
   "outputs": [],
   "source": []
  },
  {
   "cell_type": "code",
   "execution_count": 80,
   "id": "e2f2573d",
   "metadata": {},
   "outputs": [
    {
     "data": {
      "image/png": "[encoded data removed]",
      "text/plain": [
       "<Figure size 720x432 with 1 Axes>"
      ]
     },
     "metadata": {
      "needs_background": "light"
     },
     "output_type": "display_data"
    }
   ],
   "source": [
    "# Second Hypothesis : Houses with waterview are 50% more expensive.\n",
    "data[['price','waterfront']].groupby('waterfront').mean().reset_index()\n",
    "\n",
    "h2 = data[['price','waterfront']].groupby('waterfront').mean().reset_index()\n",
    "\n",
    "plt.figure(figsize=(10,6))\n",
    "plot = sns.barplot(x=h2['waterfront'], y=h2['price'])"
   ]
  },
  {
   "cell_type": "markdown",
   "id": "d7a8ba7b",
   "metadata": {},
   "source": [
    "True."
   ]
  },
  {
   "cell_type": "code",
   "execution_count": 81,
   "id": "ec5e5ae2",
   "metadata": {},
   "outputs": [
    {
     "data": {
      "image/png": "[encoded data removed]",
      "text/plain": [
       "<Figure size 720x432 with 1 Axes>"
      ]
     },
     "metadata": {
      "needs_background": "light"
     },
     "output_type": "display_data"
    }
   ],
   "source": [
    "# Third Hypothesis: New houses have higher prices than old ones.\n",
    "data['old'] = data['yr_built'].apply(lambda x: 'yes' if x <= 1955 else 'no')\n",
    "h3 = data[['price', 'old']].groupby('old').mean().reset_index()\n",
    "\n",
    "plt.figure(figsize=(10,6))\n",
    "plot = sns.barplot(x=h3['old'], y=h3['price'])"
   ]
  },
  {
   "cell_type": "markdown",
   "id": "921c51c2",
   "metadata": {},
   "source": [
    "False: the house age doesn't affect the price."
   ]
  },
  {
   "cell_type": "code",
   "execution_count": 82,
   "id": "6f61b4eb",
   "metadata": {},
   "outputs": [
    {
     "data": {
      "image/png": "[encoded data removed]",
      "text/plain": [
       "<Figure size 720x432 with 1 Axes>"
      ]
     },
     "metadata": {
      "needs_background": "light"
     },
     "output_type": "display_data"
    }
   ],
   "source": [
    "# Fourth Hypothesis: The price of the houses gets higher from year to year.\n",
    "data['year'] = pd.DatetimeIndex(data['date']).year\n",
    "h4 = data[['price', 'year']].groupby('year').mean().reset_index()\n",
    "\n",
    "plt.figure(figsize=(10,6))\n",
    "plot = sns.barplot(x=h4['year'], y=h4['price'])"
   ]
  },
  {
   "cell_type": "markdown",
   "id": "a946f684",
   "metadata": {},
   "source": [
    "False: the price seems to be constant from a year to another."
   ]
  },
  {
   "cell_type": "code",
   "execution_count": 77,
   "id": "dd78d752",
   "metadata": {
    "scrolled": true
   },
   "outputs": [
    {
     "name": "stderr",
     "output_type": "stream",
     "text": [
      "/home/joaohenritm/.pyenv/versions/3.9.0/lib/python3.9/site-packages/seaborn/_decorators.py:36: FutureWarning:\n",
      "\n",
      "Pass the following variables as keyword args: x, y. From version 0.12, the only valid positional argument will be `data`, and passing other arguments without an explicit keyword will result in an error or misinterpretation.\n",
      "\n"
     ]
    },
    {
     "data": {
      "image/png": "[encoded data removed]",
      "text/plain": [
       "<Figure size 720x432 with 1 Axes>"
      ]
     },
     "metadata": {
      "needs_background": "light"
     },
     "output_type": "display_data"
    }
   ],
   "source": [
    "# Fifth Hypothesis: For every half level added to the house, it's price raises by 20%.\n",
    "variation = data[['price', 'floors']].groupby('floors').mean().reset_index()\n",
    "variation['price'].pct_change()\n",
    "\n",
    "h5 = data[['price', 'floors']].groupby('floors').mean().reset_index()\n",
    "plt.figure(figsize=(10,6))\n",
    "plot = sns.barplot(x=h5['floors'], y=h5['price'])"
   ]
  },
  {
   "cell_type": "markdown",
   "id": "327a5011",
   "metadata": {},
   "source": [
    "False: for every half level added to the house, the price raises 9% in average."
   ]
  },
  {
   "cell_type": "code",
   "execution_count": 83,
   "id": "21490bf5",
   "metadata": {},
   "outputs": [
    {
     "data": {
      "image/png": "[encoded data removed]",
      "text/plain": [
       "<Figure size 720x432 with 1 Axes>"
      ]
     },
     "metadata": {
      "needs_background": "light"
     },
     "output_type": "display_data"
    }
   ],
   "source": [
    "# Sixth Hypothesis: Recent renovated houses got prices 20% higher.\n",
    "data['recent_reform'] = data['yr_renovated'].apply(lambda x: 'sim' if x > 2009 else 'nao')\n",
    "variation = data[['recent_reform', 'price']].groupby('recent_reform').mean().reset_index()\n",
    "\n",
    "variation['price'].pct_change()\n",
    "\n",
    "h6 = data[['recent_reform', 'price']].groupby('recent_reform').mean().reset_index()\n",
    "plt.figure(figsize=(10,6))\n",
    "plot = sns.barplot(x=h6['recent_reform'], y=h6['price'])\n"
   ]
  },
  {
   "cell_type": "markdown",
   "id": "645a2741",
   "metadata": {},
   "source": [
    "False: houses that got recently renovated got prices 28% higher than houses that did not."
   ]
  },
  {
   "cell_type": "code",
   "execution_count": 84,
   "id": "8f554969",
   "metadata": {},
   "outputs": [
    {
     "data": {
      "image/png": "[encoded data removed]",
      "text/plain": [
       "<Figure size 720x432 with 1 Axes>"
      ]
     },
     "metadata": {
      "needs_background": "light"
     },
     "output_type": "display_data"
    }
   ],
   "source": [
    "# Seventh Hypothesis: For every bathroom, the house price raises 10%\n",
    "data = data.astype({\"bathrooms\":'int'})\n",
    "variation = data[['price', 'bathrooms']].groupby('bathrooms').mean().reset_index()\n",
    "\n",
    "variation['price'].pct_change()\n",
    "\n",
    "h7 = data[['price', 'bathrooms']].groupby('bathrooms').mean().reset_index()\n",
    "plt.figure(figsize=(10,6))\n",
    "plot = sns.barplot(x=h7['bathrooms'], y=h7['price'])"
   ]
  },
  {
   "cell_type": "markdown",
   "id": "e824dda9",
   "metadata": {},
   "source": [
    "True."
   ]
  },
  {
   "cell_type": "code",
   "execution_count": 85,
   "id": "304bc54b",
   "metadata": {},
   "outputs": [
    {
     "data": {
      "image/png": "[encoded data removed]",
      "text/plain": [
       "<Figure size 720x432 with 1 Axes>"
      ]
     },
     "metadata": {
      "needs_background": "light"
     },
     "output_type": "display_data"
    }
   ],
   "source": [
    "# Eight Hypothesis: Every 1 level in condition, the price raises by 10%.\n",
    "variation = data[['condition', 'price']].groupby('condition').mean().reset_index()\n",
    "\n",
    "variation['price'].pct_change()\n",
    "\n",
    "h8 = data[['price', 'condition']].groupby('condition').mean().reset_index()\n",
    "plt.figure(figsize=(10,6))\n",
    "plot = sns.barplot(x=h8['condition'], y=h8['price'])\n"
   ]
  },
  {
   "cell_type": "markdown",
   "id": "1a06a83e",
   "metadata": {},
   "source": [
    "False: every 1 level in condition, makes the price of the high raises by 15%."
   ]
  },
  {
   "cell_type": "markdown",
   "id": "6bdc7c32",
   "metadata": {},
   "source": [
    "###  6) Some more Data exploration"
   ]
  },
  {
   "cell_type": "code",
   "execution_count": 64,
   "id": "cb18363c",
   "metadata": {},
   "outputs": [
    {
     "data": {
      "text/plain": [
       "0     NaN\n",
       "1   -0.00\n",
       "2    0.51\n",
       "3   -0.03\n",
       "4    0.13\n",
       "Name: price, dtype: float64"
      ]
     },
     "execution_count": 64,
     "metadata": {},
     "output_type": "execute_result"
    }
   ],
   "source": [
    "# The price difference between houses with condition 2 to 3 is extremely high, 51%.\n",
    "variation = data[['condition', 'price']].groupby('condition').mean().reset_index()\n",
    "variation['price'].pct_change()"
   ]
  },
  {
   "cell_type": "code",
   "execution_count": 21,
   "id": "ef4c58c2",
   "metadata": {},
   "outputs": [
    {
     "data": {
      "text/plain": [
       "0     NaN\n",
       "1    0.27\n",
       "2    0.02\n",
       "3    0.21\n",
       "4   -0.21\n",
       "5    0.17\n",
       "Name: price, dtype: float64"
      ]
     },
     "execution_count": 21,
     "metadata": {},
     "output_type": "execute_result"
    }
   ],
   "source": [
    "# Price difference between houses with 1 to 1.5 floors is 27%.\n",
    "variation = data[['price', 'floors']].groupby('floors').mean().reset_index()\n",
    "variation['price'].pct_change()"
   ]
  },
  {
   "cell_type": "code",
   "execution_count": 22,
   "id": "217d9f01",
   "metadata": {},
   "outputs": [
    {
     "data": {
      "text/plain": [
       "0     NaN\n",
       "1    0.30\n",
       "2    0.28\n",
       "3    0.30\n",
       "4    0.20\n",
       "5   -0.22\n",
       "6   -0.26\n",
       "Name: price, dtype: float64"
      ]
     },
     "execution_count": 22,
     "metadata": {},
     "output_type": "execute_result"
    }
   ],
   "source": [
    "# Price difference between houses with 0 to 1 and 2 to 3 bathrooms are 30%.\n",
    "data = data.astype({\"bathrooms\":'int'})\n",
    "variation = data[['price', 'bathrooms']].groupby('bathrooms').mean().reset_index()\n",
    "\n",
    "variation['price'].pct_change()"
   ]
  },
  {
   "cell_type": "code",
   "execution_count": 23,
   "id": "9cbaa62a",
   "metadata": {},
   "outputs": [
    {
     "data": {
      "text/html": [
       "<div>\n",
       "<style scoped>\n",
       "    .dataframe tbody tr th:only-of-type {\n",
       "        vertical-align: middle;\n",
       "    }\n",
       "\n",
       "    .dataframe tbody tr th {\n",
       "        vertical-align: top;\n",
       "    }\n",
       "\n",
       "    .dataframe thead th {\n",
       "        text-align: right;\n",
       "    }\n",
       "</style>\n",
       "<table border=\"1\" class=\"dataframe\">\n",
       "  <thead>\n",
       "    <tr style=\"text-align: right;\">\n",
       "      <th></th>\n",
       "      <th>price</th>\n",
       "    </tr>\n",
       "    <tr>\n",
       "      <th>condition</th>\n",
       "      <th></th>\n",
       "    </tr>\n",
       "  </thead>\n",
       "  <tbody>\n",
       "    <tr>\n",
       "      <th>1</th>\n",
       "      <td>311022.50</td>\n",
       "    </tr>\n",
       "    <tr>\n",
       "      <th>2</th>\n",
       "      <td>310449.60</td>\n",
       "    </tr>\n",
       "    <tr>\n",
       "      <th>3</th>\n",
       "      <td>469477.42</td>\n",
       "    </tr>\n",
       "    <tr>\n",
       "      <th>4</th>\n",
       "      <td>456767.26</td>\n",
       "    </tr>\n",
       "    <tr>\n",
       "      <th>5</th>\n",
       "      <td>518032.33</td>\n",
       "    </tr>\n",
       "  </tbody>\n",
       "</table>\n",
       "</div>"
      ],
      "text/plain": [
       "              price\n",
       "condition          \n",
       "1         311022.50\n",
       "2         310449.60\n",
       "3         469477.42\n",
       "4         456767.26\n",
       "5         518032.33"
      ]
     },
     "execution_count": 23,
     "metadata": {},
     "output_type": "execute_result"
    }
   ],
   "source": [
    "data[['condition','price']].groupby('condition').mean()"
   ]
  },
  {
   "cell_type": "markdown",
   "id": "5e9de149",
   "metadata": {},
   "source": [
    "###  7) Useful Insights"
   ]
  },
  {
   "cell_type": "markdown",
   "id": "0d97f6fe",
   "metadata": {},
   "source": [
    "1. Buy properties during Winter and Fall.\n",
    "2. Buy properties with 0 bathrooms and build 1.\n",
    "3. Buy properties with 1 floor and transform it to a 1.5 floor.\n",
    "4. Buy properties with condition 2 and renovate until it gets condition 3."
   ]
  },
  {
   "cell_type": "code",
   "execution_count": 24,
   "id": "6818d799",
   "metadata": {},
   "outputs": [],
   "source": [
    "recommended = data.loc[((data['bathrooms'] == 0) | (data['floors'] == 1)) &\n",
    "                        (data['condition'] == 3)]\n",
    "                       \n",
    "price_sell = data['price'] * 1.30\n",
    "\n",
    "recommended.insert(loc=5, column='Estimated Sell Price', value=price_sell)"
   ]
  },
  {
   "cell_type": "code",
   "execution_count": 25,
   "id": "e38a7509",
   "metadata": {},
   "outputs": [],
   "source": [
    "\n",
    "recommended = recommended.rename(columns={'id':'ID','date':'Date','price':'Price','bedrooms':'Bedrooms',\n",
    "                                          'bathrooms':'Bathrooms', 'floors':'Floors', 'condition':'Condition'})"
   ]
  },
  {
   "cell_type": "markdown",
   "id": "7c4fd3c4",
   "metadata": {},
   "source": [
    "### 8) Business Recommendations"
   ]
  },
  {
   "cell_type": "markdown",
   "id": "559c6217",
   "metadata": {},
   "source": [
    "#### The recommendation for the House Rocket:\n",
    "- Buy properties that fulfill the insights 2, 3 and 4. Renovate the properties and sell for a price at least 40% higher.\n",
    "- Buy properties that fulfill the insights 2, 3 and 4, don't renovate and sell for a price 10% higher without renovating.\n",
    "- Try to buy many properties as possible during Winter and Fall season and sell it during Spring and Summer season."
   ]
  },
  {
   "cell_type": "code",
   "execution_count": 26,
   "id": "8e883f61",
   "metadata": {},
   "outputs": [
    {
     "data": {
      "text/html": [
       "<div>\n",
       "<style scoped>\n",
       "    .dataframe tbody tr th:only-of-type {\n",
       "        vertical-align: middle;\n",
       "    }\n",
       "\n",
       "    .dataframe tbody tr th {\n",
       "        vertical-align: top;\n",
       "    }\n",
       "\n",
       "    .dataframe thead th {\n",
       "        text-align: right;\n",
       "    }\n",
       "</style>\n",
       "<table border=\"1\" class=\"dataframe\">\n",
       "  <thead>\n",
       "    <tr style=\"text-align: right;\">\n",
       "      <th></th>\n",
       "      <th>ID</th>\n",
       "      <th>Price</th>\n",
       "      <th>Estimated Sell Price</th>\n",
       "      <th>Bedrooms</th>\n",
       "      <th>Bathrooms</th>\n",
       "      <th>Floors</th>\n",
       "      <th>Condition</th>\n",
       "    </tr>\n",
       "  </thead>\n",
       "  <tbody>\n",
       "    <tr>\n",
       "      <th>0</th>\n",
       "      <td>7129300520</td>\n",
       "      <td>221900.00</td>\n",
       "      <td>288470.00</td>\n",
       "      <td>3</td>\n",
       "      <td>1</td>\n",
       "      <td>1.00</td>\n",
       "      <td>3</td>\n",
       "    </tr>\n",
       "    <tr>\n",
       "      <th>2</th>\n",
       "      <td>5631500400</td>\n",
       "      <td>180000.00</td>\n",
       "      <td>234000.00</td>\n",
       "      <td>2</td>\n",
       "      <td>1</td>\n",
       "      <td>1.00</td>\n",
       "      <td>3</td>\n",
       "    </tr>\n",
       "    <tr>\n",
       "      <th>4</th>\n",
       "      <td>1954400510</td>\n",
       "      <td>510000.00</td>\n",
       "      <td>663000.00</td>\n",
       "      <td>3</td>\n",
       "      <td>2</td>\n",
       "      <td>1.00</td>\n",
       "      <td>3</td>\n",
       "    </tr>\n",
       "    <tr>\n",
       "      <th>7</th>\n",
       "      <td>2008000270</td>\n",
       "      <td>291850.00</td>\n",
       "      <td>379405.00</td>\n",
       "      <td>3</td>\n",
       "      <td>1</td>\n",
       "      <td>1.00</td>\n",
       "      <td>3</td>\n",
       "    </tr>\n",
       "    <tr>\n",
       "      <th>8</th>\n",
       "      <td>2414600126</td>\n",
       "      <td>229500.00</td>\n",
       "      <td>298350.00</td>\n",
       "      <td>3</td>\n",
       "      <td>1</td>\n",
       "      <td>1.00</td>\n",
       "      <td>3</td>\n",
       "    </tr>\n",
       "    <tr>\n",
       "      <th>...</th>\n",
       "      <td>...</td>\n",
       "      <td>...</td>\n",
       "      <td>...</td>\n",
       "      <td>...</td>\n",
       "      <td>...</td>\n",
       "      <td>...</td>\n",
       "      <td>...</td>\n",
       "    </tr>\n",
       "    <tr>\n",
       "      <th>21504</th>\n",
       "      <td>8682291050</td>\n",
       "      <td>810000.00</td>\n",
       "      <td>1053000.00</td>\n",
       "      <td>2</td>\n",
       "      <td>2</td>\n",
       "      <td>1.00</td>\n",
       "      <td>3</td>\n",
       "    </tr>\n",
       "    <tr>\n",
       "      <th>21570</th>\n",
       "      <td>3438501862</td>\n",
       "      <td>330000.00</td>\n",
       "      <td>429000.00</td>\n",
       "      <td>3</td>\n",
       "      <td>2</td>\n",
       "      <td>1.00</td>\n",
       "      <td>3</td>\n",
       "    </tr>\n",
       "    <tr>\n",
       "      <th>21602</th>\n",
       "      <td>844000965</td>\n",
       "      <td>224000.00</td>\n",
       "      <td>291200.00</td>\n",
       "      <td>3</td>\n",
       "      <td>1</td>\n",
       "      <td>1.00</td>\n",
       "      <td>3</td>\n",
       "    </tr>\n",
       "    <tr>\n",
       "      <th>21610</th>\n",
       "      <td>1523300141</td>\n",
       "      <td>402101.00</td>\n",
       "      <td>522731.30</td>\n",
       "      <td>2</td>\n",
       "      <td>0</td>\n",
       "      <td>2.00</td>\n",
       "      <td>3</td>\n",
       "    </tr>\n",
       "    <tr>\n",
       "      <th>21612</th>\n",
       "      <td>1523300157</td>\n",
       "      <td>325000.00</td>\n",
       "      <td>422500.00</td>\n",
       "      <td>2</td>\n",
       "      <td>0</td>\n",
       "      <td>2.00</td>\n",
       "      <td>3</td>\n",
       "    </tr>\n",
       "  </tbody>\n",
       "</table>\n",
       "<p>4852 rows × 7 columns</p>\n",
       "</div>"
      ],
      "text/plain": [
       "               ID     Price  Estimated Sell Price  Bedrooms  Bathrooms  \\\n",
       "0      7129300520 221900.00             288470.00         3          1   \n",
       "2      5631500400 180000.00             234000.00         2          1   \n",
       "4      1954400510 510000.00             663000.00         3          2   \n",
       "7      2008000270 291850.00             379405.00         3          1   \n",
       "8      2414600126 229500.00             298350.00         3          1   \n",
       "...           ...       ...                   ...       ...        ...   \n",
       "21504  8682291050 810000.00            1053000.00         2          2   \n",
       "21570  3438501862 330000.00             429000.00         3          2   \n",
       "21602   844000965 224000.00             291200.00         3          1   \n",
       "21610  1523300141 402101.00             522731.30         2          0   \n",
       "21612  1523300157 325000.00             422500.00         2          0   \n",
       "\n",
       "       Floors  Condition  \n",
       "0        1.00          3  \n",
       "2        1.00          3  \n",
       "4        1.00          3  \n",
       "7        1.00          3  \n",
       "8        1.00          3  \n",
       "...       ...        ...  \n",
       "21504    1.00          3  \n",
       "21570    1.00          3  \n",
       "21602    1.00          3  \n",
       "21610    2.00          3  \n",
       "21612    2.00          3  \n",
       "\n",
       "[4852 rows x 7 columns]"
      ]
     },
     "execution_count": 26,
     "metadata": {},
     "output_type": "execute_result"
    }
   ],
   "source": [
    "recommended[['ID', 'Price', 'Estimated Sell Price', 'Bedrooms', 'Bathrooms', 'Floors', 'Condition']]"
   ]
  },
  {
   "cell_type": "code",
   "execution_count": 27,
   "id": "75e46baa",
   "metadata": {},
   "outputs": [
    {
     "data": {
      "text/html": [
       "<div>\n",
       "<style scoped>\n",
       "    .dataframe tbody tr th:only-of-type {\n",
       "        vertical-align: middle;\n",
       "    }\n",
       "\n",
       "    .dataframe tbody tr th {\n",
       "        vertical-align: top;\n",
       "    }\n",
       "\n",
       "    .dataframe thead th {\n",
       "        text-align: right;\n",
       "    }\n",
       "</style>\n",
       "<table border=\"1\" class=\"dataframe\">\n",
       "  <thead>\n",
       "    <tr style=\"text-align: right;\">\n",
       "      <th></th>\n",
       "      <th>ID</th>\n",
       "      <th>Price</th>\n",
       "      <th>Bedrooms</th>\n",
       "      <th>Bathrooms</th>\n",
       "      <th>Estimated Sell Price</th>\n",
       "      <th>Floors</th>\n",
       "      <th>waterfront</th>\n",
       "      <th>view</th>\n",
       "      <th>Condition</th>\n",
       "      <th>grade</th>\n",
       "      <th>...</th>\n",
       "      <th>yr_renovated</th>\n",
       "      <th>zipcode</th>\n",
       "      <th>lat</th>\n",
       "      <th>long</th>\n",
       "      <th>m2_living</th>\n",
       "      <th>m2_lot</th>\n",
       "      <th>m2_above</th>\n",
       "      <th>m2_basement</th>\n",
       "      <th>month</th>\n",
       "      <th>year</th>\n",
       "    </tr>\n",
       "  </thead>\n",
       "  <tbody>\n",
       "    <tr>\n",
       "      <th>count</th>\n",
       "      <td>4852.00</td>\n",
       "      <td>4852.00</td>\n",
       "      <td>4852.00</td>\n",
       "      <td>4852.00</td>\n",
       "      <td>4852.00</td>\n",
       "      <td>4852.00</td>\n",
       "      <td>4852.00</td>\n",
       "      <td>4852.00</td>\n",
       "      <td>4852.00</td>\n",
       "      <td>4852.00</td>\n",
       "      <td>...</td>\n",
       "      <td>4852.00</td>\n",
       "      <td>4852.00</td>\n",
       "      <td>4852.00</td>\n",
       "      <td>4852.00</td>\n",
       "      <td>4852.00</td>\n",
       "      <td>4852.00</td>\n",
       "      <td>4852.00</td>\n",
       "      <td>4852.00</td>\n",
       "      <td>4852.00</td>\n",
       "      <td>4852.00</td>\n",
       "    </tr>\n",
       "    <tr>\n",
       "      <th>mean</th>\n",
       "      <td>4715668220.92</td>\n",
       "      <td>396757.81</td>\n",
       "      <td>3.06</td>\n",
       "      <td>1.38</td>\n",
       "      <td>515785.15</td>\n",
       "      <td>1.00</td>\n",
       "      <td>0.00</td>\n",
       "      <td>0.16</td>\n",
       "      <td>3.00</td>\n",
       "      <td>7.08</td>\n",
       "      <td>...</td>\n",
       "      <td>102.17</td>\n",
       "      <td>98091.79</td>\n",
       "      <td>47.57</td>\n",
       "      <td>-122.25</td>\n",
       "      <td>150.13</td>\n",
       "      <td>752.59</td>\n",
       "      <td>117.57</td>\n",
       "      <td>32.56</td>\n",
       "      <td>6.49</td>\n",
       "      <td>2014.36</td>\n",
       "    </tr>\n",
       "    <tr>\n",
       "      <th>std</th>\n",
       "      <td>2842674505.78</td>\n",
       "      <td>167451.86</td>\n",
       "      <td>0.89</td>\n",
       "      <td>0.57</td>\n",
       "      <td>217687.42</td>\n",
       "      <td>0.06</td>\n",
       "      <td>0.04</td>\n",
       "      <td>0.59</td>\n",
       "      <td>0.00</td>\n",
       "      <td>0.77</td>\n",
       "      <td>...</td>\n",
       "      <td>440.27</td>\n",
       "      <td>57.99</td>\n",
       "      <td>0.14</td>\n",
       "      <td>0.12</td>\n",
       "      <td>54.79</td>\n",
       "      <td>292.55</td>\n",
       "      <td>34.32</td>\n",
       "      <td>39.00</td>\n",
       "      <td>3.20</td>\n",
       "      <td>0.48</td>\n",
       "    </tr>\n",
       "    <tr>\n",
       "      <th>min</th>\n",
       "      <td>3600057.00</td>\n",
       "      <td>83000.00</td>\n",
       "      <td>0.00</td>\n",
       "      <td>0.00</td>\n",
       "      <td>107900.00</td>\n",
       "      <td>1.00</td>\n",
       "      <td>0.00</td>\n",
       "      <td>0.00</td>\n",
       "      <td>3.00</td>\n",
       "      <td>4.00</td>\n",
       "      <td>...</td>\n",
       "      <td>0.00</td>\n",
       "      <td>98001.00</td>\n",
       "      <td>47.19</td>\n",
       "      <td>-122.46</td>\n",
       "      <td>35.30</td>\n",
       "      <td>90.95</td>\n",
       "      <td>35.30</td>\n",
       "      <td>0.00</td>\n",
       "      <td>1.00</td>\n",
       "      <td>2014.00</td>\n",
       "    </tr>\n",
       "    <tr>\n",
       "      <th>25%</th>\n",
       "      <td>2297225132.50</td>\n",
       "      <td>270000.00</td>\n",
       "      <td>3.00</td>\n",
       "      <td>1.00</td>\n",
       "      <td>351000.00</td>\n",
       "      <td>1.00</td>\n",
       "      <td>0.00</td>\n",
       "      <td>0.00</td>\n",
       "      <td>3.00</td>\n",
       "      <td>7.00</td>\n",
       "      <td>...</td>\n",
       "      <td>0.00</td>\n",
       "      <td>98034.00</td>\n",
       "      <td>47.48</td>\n",
       "      <td>-122.34</td>\n",
       "      <td>108.70</td>\n",
       "      <td>557.42</td>\n",
       "      <td>93.83</td>\n",
       "      <td>0.00</td>\n",
       "      <td>4.00</td>\n",
       "      <td>2014.00</td>\n",
       "    </tr>\n",
       "    <tr>\n",
       "      <th>50%</th>\n",
       "      <td>4058801080.00</td>\n",
       "      <td>368000.00</td>\n",
       "      <td>3.00</td>\n",
       "      <td>1.00</td>\n",
       "      <td>478400.00</td>\n",
       "      <td>1.00</td>\n",
       "      <td>0.00</td>\n",
       "      <td>0.00</td>\n",
       "      <td>3.00</td>\n",
       "      <td>7.00</td>\n",
       "      <td>...</td>\n",
       "      <td>0.00</td>\n",
       "      <td>98106.00</td>\n",
       "      <td>47.57</td>\n",
       "      <td>-122.29</td>\n",
       "      <td>143.07</td>\n",
       "      <td>713.50</td>\n",
       "      <td>113.34</td>\n",
       "      <td>13.01</td>\n",
       "      <td>6.00</td>\n",
       "      <td>2014.00</td>\n",
       "    </tr>\n",
       "    <tr>\n",
       "      <th>75%</th>\n",
       "      <td>7452500112.50</td>\n",
       "      <td>485000.00</td>\n",
       "      <td>3.00</td>\n",
       "      <td>2.00</td>\n",
       "      <td>630500.00</td>\n",
       "      <td>1.00</td>\n",
       "      <td>0.00</td>\n",
       "      <td>0.00</td>\n",
       "      <td>3.00</td>\n",
       "      <td>7.00</td>\n",
       "      <td>...</td>\n",
       "      <td>0.00</td>\n",
       "      <td>98133.00</td>\n",
       "      <td>47.70</td>\n",
       "      <td>-122.19</td>\n",
       "      <td>183.02</td>\n",
       "      <td>896.82</td>\n",
       "      <td>134.71</td>\n",
       "      <td>60.39</td>\n",
       "      <td>9.00</td>\n",
       "      <td>2015.00</td>\n",
       "    </tr>\n",
       "    <tr>\n",
       "      <th>max</th>\n",
       "      <td>9900000190.00</td>\n",
       "      <td>1110000.00</td>\n",
       "      <td>8.00</td>\n",
       "      <td>4.00</td>\n",
       "      <td>1443000.00</td>\n",
       "      <td>3.50</td>\n",
       "      <td>1.00</td>\n",
       "      <td>4.00</td>\n",
       "      <td>3.00</td>\n",
       "      <td>11.00</td>\n",
       "      <td>...</td>\n",
       "      <td>2015.00</td>\n",
       "      <td>98199.00</td>\n",
       "      <td>47.78</td>\n",
       "      <td>-121.36</td>\n",
       "      <td>470.74</td>\n",
       "      <td>1780.30</td>\n",
       "      <td>320.52</td>\n",
       "      <td>192.31</td>\n",
       "      <td>12.00</td>\n",
       "      <td>2015.00</td>\n",
       "    </tr>\n",
       "  </tbody>\n",
       "</table>\n",
       "<p>8 rows × 21 columns</p>\n",
       "</div>"
      ],
      "text/plain": [
       "                 ID      Price  Bedrooms  Bathrooms  Estimated Sell Price  \\\n",
       "count       4852.00    4852.00   4852.00    4852.00               4852.00   \n",
       "mean  4715668220.92  396757.81      3.06       1.38             515785.15   \n",
       "std   2842674505.78  167451.86      0.89       0.57             217687.42   \n",
       "min      3600057.00   83000.00      0.00       0.00             107900.00   \n",
       "25%   2297225132.50  270000.00      3.00       1.00             351000.00   \n",
       "50%   4058801080.00  368000.00      3.00       1.00             478400.00   \n",
       "75%   7452500112.50  485000.00      3.00       2.00             630500.00   \n",
       "max   9900000190.00 1110000.00      8.00       4.00            1443000.00   \n",
       "\n",
       "       Floors  waterfront    view  Condition   grade  ...  yr_renovated  \\\n",
       "count 4852.00     4852.00 4852.00    4852.00 4852.00  ...       4852.00   \n",
       "mean     1.00        0.00    0.16       3.00    7.08  ...        102.17   \n",
       "std      0.06        0.04    0.59       0.00    0.77  ...        440.27   \n",
       "min      1.00        0.00    0.00       3.00    4.00  ...          0.00   \n",
       "25%      1.00        0.00    0.00       3.00    7.00  ...          0.00   \n",
       "50%      1.00        0.00    0.00       3.00    7.00  ...          0.00   \n",
       "75%      1.00        0.00    0.00       3.00    7.00  ...          0.00   \n",
       "max      3.50        1.00    4.00       3.00   11.00  ...       2015.00   \n",
       "\n",
       "       zipcode     lat    long  m2_living  m2_lot  m2_above  m2_basement  \\\n",
       "count  4852.00 4852.00 4852.00    4852.00 4852.00   4852.00      4852.00   \n",
       "mean  98091.79   47.57 -122.25     150.13  752.59    117.57        32.56   \n",
       "std      57.99    0.14    0.12      54.79  292.55     34.32        39.00   \n",
       "min   98001.00   47.19 -122.46      35.30   90.95     35.30         0.00   \n",
       "25%   98034.00   47.48 -122.34     108.70  557.42     93.83         0.00   \n",
       "50%   98106.00   47.57 -122.29     143.07  713.50    113.34        13.01   \n",
       "75%   98133.00   47.70 -122.19     183.02  896.82    134.71        60.39   \n",
       "max   98199.00   47.78 -121.36     470.74 1780.30    320.52       192.31   \n",
       "\n",
       "        month    year  \n",
       "count 4852.00 4852.00  \n",
       "mean     6.49 2014.36  \n",
       "std      3.20    0.48  \n",
       "min      1.00 2014.00  \n",
       "25%      4.00 2014.00  \n",
       "50%      6.00 2014.00  \n",
       "75%      9.00 2015.00  \n",
       "max     12.00 2015.00  \n",
       "\n",
       "[8 rows x 21 columns]"
      ]
     },
     "execution_count": 27,
     "metadata": {},
     "output_type": "execute_result"
    }
   ],
   "source": [
    "recommended.describe()"
   ]
  },
  {
   "cell_type": "code",
   "execution_count": null,
   "id": "ee25f484",
   "metadata": {},
   "outputs": [],
   "source": []
  }
 ],
 "metadata": {
  "kernelspec": {
   "display_name": "Python 3 (ipykernel)",
   "language": "python",
   "name": "python3"
  },
  "language_info": {
   "codemirror_mode": {
    "name": "ipython",
    "version": 3
   },
   "file_extension": ".py",
   "mimetype": "text/x-python",
   "name": "python",
   "nbconvert_exporter": "python",
   "pygments_lexer": "ipython3",
   "version": "3.9.0"
  }
 },
 "nbformat": 4,
 "nbformat_minor": 5
}
